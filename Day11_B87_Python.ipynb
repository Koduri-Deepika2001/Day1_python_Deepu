{
 "cells": [
  {
   "cell_type": "code",
   "execution_count": null,
   "id": "e3135197-367e-480f-8d24-15fa133b9c2f",
   "metadata": {},
   "outputs": [],
   "source": [
    "Introduction to python classes:"
   ]
  },
  {
   "cell_type": "code",
   "execution_count": null,
   "id": "2f42595a-68f3-402e-b568-27fe79d15366",
   "metadata": {},
   "outputs": [],
   "source": [
    "1. Class - It is a high level blue print of the program.\n",
    "2. Methods - A function written inside the class is called a method.\n",
    "3. Attributes - A variable written inside a class is called an attribute.\n",
    "4. Objects/Instances - It is an approach by using which we can be able to access the class methods.\n",
    "5. Self - Self is temp placeholder for an object.\n",
    "6. Init - It is a special method/magical method."
   ]
  },
  {
   "cell_type": "code",
   "execution_count": null,
   "id": "75977c94-f880-45c3-9dbd-915e5d2c484c",
   "metadata": {},
   "outputs": [],
   "source": [
    "Class: Req: Design a dog class with its functionalites."
   ]
  },
  {
   "cell_type": "code",
   "execution_count": 7,
   "id": "3e1d9afd-6e58-4a78-96bb-f4f69bada689",
   "metadata": {},
   "outputs": [],
   "source": [
    "class Dog:  # This is a class declaration\n",
    "    \"\"\"A simple attempt to model a dog.\"\"\"\n",
    "\n",
    "    def __init__(self, name, age):  # This is a method\n",
    "        \"\"\"Initialize name and age attributes.\"\"\"\n",
    "        self.name = name  # These are attributes\n",
    "        self.age = age\n",
    "\n",
    "    def sit(self):  # This is a method\n",
    "        \"\"\"Simulate a dog sitting in response to a command.\"\"\"\n",
    "        print(f\"{self.name} is now sitting.\")\n",
    "\n",
    "    def roll_over(self):  # This is a method\n",
    "        \"\"\"Simulate rolling over in response to a command.\"\"\"\n",
    "        print(f\"{self.name} rolled over.\")\n"
   ]
  },
  {
   "cell_type": "code",
   "execution_count": 11,
   "id": "381b1507-fc85-4eb5-8fa3-c885837e5bab",
   "metadata": {},
   "outputs": [],
   "source": [
    "My_dog = Dog('bruno', 6)"
   ]
  },
  {
   "cell_type": "code",
   "execution_count": 13,
   "id": "2ebca3e5-3ba5-4626-bb1f-00ef1537d95e",
   "metadata": {},
   "outputs": [
    {
     "name": "stdout",
     "output_type": "stream",
     "text": [
      "bruno is now sitting.\n"
     ]
    }
   ],
   "source": [
    "My_dog.sit()"
   ]
  },
  {
   "cell_type": "code",
   "execution_count": 14,
   "id": "b9fad4e5-8b35-4359-8f4f-5444b4ba8c81",
   "metadata": {},
   "outputs": [
    {
     "name": "stdout",
     "output_type": "stream",
     "text": [
      "bruno rolled over.\n"
     ]
    }
   ],
   "source": [
    "My_dog.roll_over()"
   ]
  },
  {
   "cell_type": "code",
   "execution_count": 15,
   "id": "7aa6efd3-3d5d-4760-92e4-cd6172b9f95d",
   "metadata": {},
   "outputs": [],
   "source": [
    "test = Dog('rex', 3)"
   ]
  },
  {
   "cell_type": "code",
   "execution_count": 16,
   "id": "a4fb51c8-1562-47f3-8ad1-7b3b58669668",
   "metadata": {},
   "outputs": [
    {
     "name": "stdout",
     "output_type": "stream",
     "text": [
      "rex is now sitting.\n"
     ]
    }
   ],
   "source": [
    "test.sit()"
   ]
  },
  {
   "cell_type": "code",
   "execution_count": 17,
   "id": "369f3eed-f566-4321-9954-af9d076bcc77",
   "metadata": {},
   "outputs": [
    {
     "name": "stdout",
     "output_type": "stream",
     "text": [
      "rex rolled over.\n"
     ]
    }
   ],
   "source": [
    "test.roll_over()"
   ]
  },
  {
   "cell_type": "code",
   "execution_count": 23,
   "id": "dff26e2c-c57d-4c74-a633-71ce3edf680f",
   "metadata": {},
   "outputs": [],
   "source": [
    "class Car:\n",
    "    \"\"\"A simple attempt to represent a car.\"\"\"\n",
    "\n",
    "    def __init__(self, make, model, year):  # Corrected method name and added colon\n",
    "        \"\"\"Initialize the attributes to describe the car.\"\"\"\n",
    "        self.make = make\n",
    "        self.model = model\n",
    "        self.year = year\n",
    "\n",
    "    def get_descriptive_name(self):\n",
    "        \"\"\"Return a neatly formatted descriptive name.\"\"\"\n",
    "        long_name = f\"{self.year} {self.make} {self.model}\"  # Fixed formatting\n",
    "        return long_name.title()"
   ]
  },
  {
   "cell_type": "code",
   "execution_count": 25,
   "id": "77f9b368-9198-491a-a073-e9c02aba9712",
   "metadata": {},
   "outputs": [],
   "source": [
    "my_new_car = Car('audi', 'a4', 2020)"
   ]
  },
  {
   "cell_type": "code",
   "execution_count": 26,
   "id": "46f109eb-291d-4cd0-8d63-6643ddfa4f0b",
   "metadata": {},
   "outputs": [
    {
     "name": "stdout",
     "output_type": "stream",
     "text": [
      "2020 Audi A4\n"
     ]
    }
   ],
   "source": [
    "print(my_new_car.get_descriptive_name())"
   ]
  },
  {
   "cell_type": "code",
   "execution_count": null,
   "id": "47b5c972-df6f-476a-8832-4e3775cd406f",
   "metadata": {},
   "outputs": [],
   "source": []
  },
  {
   "cell_type": "code",
   "execution_count": null,
   "id": "b583e4ff-a218-458a-9a16-646f6a116fc9",
   "metadata": {},
   "outputs": [],
   "source": []
  },
  {
   "cell_type": "code",
   "execution_count": null,
   "id": "dc485631-26a1-4207-ac82-d0c2e0c8a516",
   "metadata": {},
   "outputs": [],
   "source": []
  },
  {
   "cell_type": "code",
   "execution_count": null,
   "id": "58eaccda-e423-4499-9012-4f2aa23ccffb",
   "metadata": {},
   "outputs": [],
   "source": []
  },
  {
   "cell_type": "code",
   "execution_count": null,
   "id": "f2845a9a-fd1c-4412-9bfd-7d09dc23455e",
   "metadata": {},
   "outputs": [],
   "source": []
  },
  {
   "cell_type": "code",
   "execution_count": null,
   "id": "926c122f-098e-4635-b754-c9a37244ecad",
   "metadata": {},
   "outputs": [],
   "source": []
  },
  {
   "cell_type": "code",
   "execution_count": null,
   "id": "475f45ea-e57f-4fc2-8748-3b292aea0fa4",
   "metadata": {},
   "outputs": [],
   "source": []
  },
  {
   "cell_type": "code",
   "execution_count": null,
   "id": "9fcf917c-49b1-4172-b9c8-780857fb5bd0",
   "metadata": {},
   "outputs": [],
   "source": []
  },
  {
   "cell_type": "code",
   "execution_count": null,
   "id": "495c0168-a8d7-47b7-8d84-e0524bd1d79c",
   "metadata": {},
   "outputs": [],
   "source": []
  },
  {
   "cell_type": "code",
   "execution_count": null,
   "id": "2e82df53-1a7e-4ced-9cda-5239826615c0",
   "metadata": {},
   "outputs": [],
   "source": []
  },
  {
   "cell_type": "code",
   "execution_count": null,
   "id": "62149210-44f9-4287-877f-a85c2652ec5e",
   "metadata": {},
   "outputs": [],
   "source": []
  },
  {
   "cell_type": "code",
   "execution_count": null,
   "id": "3e55bfd3-1ee9-4c03-8359-cef74f392754",
   "metadata": {},
   "outputs": [],
   "source": []
  },
  {
   "cell_type": "code",
   "execution_count": null,
   "id": "ee2408c3-1523-49df-ab4e-2caf53fc172c",
   "metadata": {},
   "outputs": [],
   "source": []
  },
  {
   "cell_type": "code",
   "execution_count": null,
   "id": "116d890d-facc-4b40-96d4-336564973494",
   "metadata": {},
   "outputs": [],
   "source": []
  }
 ],
 "metadata": {
  "kernelspec": {
   "display_name": "Python [conda env:base] *",
   "language": "python",
   "name": "conda-base-py"
  },
  "language_info": {
   "codemirror_mode": {
    "name": "ipython",
    "version": 3
   },
   "file_extension": ".py",
   "mimetype": "text/x-python",
   "name": "python",
   "nbconvert_exporter": "python",
   "pygments_lexer": "ipython3",
   "version": "3.13.5"
  }
 },
 "nbformat": 4,
 "nbformat_minor": 5
}
