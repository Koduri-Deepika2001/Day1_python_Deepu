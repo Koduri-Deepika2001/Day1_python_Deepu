{
 "cells": [
  {
   "cell_type": "code",
   "execution_count": null,
   "id": "5790e669-1dd2-402a-b07d-ccebfae4fd2a",
   "metadata": {},
   "outputs": [],
   "source": [
    "Introduction to number data type:"
   ]
  },
  {
   "cell_type": "code",
   "execution_count": 2,
   "id": "00bfb2af-bdfe-476c-bdb5-f46a043d8099",
   "metadata": {},
   "outputs": [
    {
     "name": "stdout",
     "output_type": "stream",
     "text": [
      "123\n"
     ]
    }
   ],
   "source": [
    "number = 123\n",
    "print(number)"
   ]
  },
  {
   "cell_type": "code",
   "execution_count": 3,
   "id": "0c8d0b55-078f-4519-bcd5-8980c176898b",
   "metadata": {},
   "outputs": [
    {
     "data": {
      "text/plain": [
       "int"
      ]
     },
     "execution_count": 3,
     "metadata": {},
     "output_type": "execute_result"
    }
   ],
   "source": [
    "type(number)"
   ]
  },
  {
   "cell_type": "code",
   "execution_count": 4,
   "id": "d86ae81a-a90f-4ba7-a8af-51d441ad9be8",
   "metadata": {},
   "outputs": [
    {
     "name": "stdout",
     "output_type": "stream",
     "text": [
      "0.1\n"
     ]
    }
   ],
   "source": [
    "num2 = 0.1\n",
    "print(num2)"
   ]
  },
  {
   "cell_type": "code",
   "execution_count": 5,
   "id": "b7144f71-f79f-48bc-adf7-4cd099de7d13",
   "metadata": {},
   "outputs": [
    {
     "data": {
      "text/plain": [
       "float"
      ]
     },
     "execution_count": 5,
     "metadata": {},
     "output_type": "execute_result"
    }
   ],
   "source": [
    "type(num2)"
   ]
  },
  {
   "cell_type": "code",
   "execution_count": null,
   "id": "eb037c42-49ef-4326-ae1c-e4b26139fab6",
   "metadata": {},
   "outputs": [],
   "source": [
    "Introduction to list data types:"
   ]
  },
  {
   "cell_type": "code",
   "execution_count": 8,
   "id": "1a1b999e-a573-4a95-b9cb-beee9d7ac07d",
   "metadata": {},
   "outputs": [
    {
     "name": "stdout",
     "output_type": "stream",
     "text": [
      "['Deepu', 'Sruthi']\n"
     ]
    }
   ],
   "source": [
    "students = ['Deepu','Sruthi']\n",
    "print(students)"
   ]
  },
  {
   "cell_type": "code",
   "execution_count": 9,
   "id": "fddf7048-7986-4b5c-9527-f2055731a57c",
   "metadata": {},
   "outputs": [
    {
     "data": {
      "text/plain": [
       "list"
      ]
     },
     "execution_count": 9,
     "metadata": {},
     "output_type": "execute_result"
    }
   ],
   "source": [
    "type(students)"
   ]
  },
  {
   "cell_type": "code",
   "execution_count": null,
   "id": "427a2bb1-c120-438f-b62a-ec4ce8bec931",
   "metadata": {},
   "outputs": [],
   "source": [
    "Introduction to Indexing:"
   ]
  },
  {
   "cell_type": "code",
   "execution_count": null,
   "id": "c36b1b84-324c-462b-a102-a68f00d92cab",
   "metadata": {},
   "outputs": [],
   "source": [
    "students = ['Deepu','Sruthi']"
   ]
  },
  {
   "cell_type": "code",
   "execution_count": 10,
   "id": "06734c1d-10a4-4927-9344-9e646b155ab1",
   "metadata": {},
   "outputs": [
    {
     "name": "stdout",
     "output_type": "stream",
     "text": [
      "Sruthi\n"
     ]
    }
   ],
   "source": [
    "print(students[1])"
   ]
  },
  {
   "cell_type": "code",
   "execution_count": 12,
   "id": "b1298cb5-a87d-4588-9d52-f90948892610",
   "metadata": {},
   "outputs": [
    {
     "name": "stdout",
     "output_type": "stream",
     "text": [
      "Sruthi\n"
     ]
    }
   ],
   "source": [
    "print(students[1].title())"
   ]
  },
  {
   "cell_type": "code",
   "execution_count": null,
   "id": "64dd374d-1a8d-42c8-b052-66c9b01bdd38",
   "metadata": {},
   "outputs": [],
   "source": [
    "How to add new elements to the list:"
   ]
  },
  {
   "cell_type": "code",
   "execution_count": 15,
   "id": "5c2f45fe-4523-42db-80a7-c3615803ba05",
   "metadata": {},
   "outputs": [
    {
     "name": "stdout",
     "output_type": "stream",
     "text": [
      "['Deepu', 'Sruthi', 'Divya']\n"
     ]
    }
   ],
   "source": [
    "students = ['Deepu','Sruthi']\n",
    "students.append('Divya')\n",
    "print(students)"
   ]
  },
  {
   "cell_type": "code",
   "execution_count": null,
   "id": "6126f978-7c2b-4a99-845a-d16304d23dd9",
   "metadata": {},
   "outputs": [],
   "source": [
    "How to add 'Ravi' at 2nd index position:"
   ]
  },
  {
   "cell_type": "code",
   "execution_count": 20,
   "id": "c69bb47d-2e29-4038-a7f3-a58090137643",
   "metadata": {},
   "outputs": [
    {
     "name": "stdout",
     "output_type": "stream",
     "text": [
      "['Deepu', 'Sruthi', 'Ravi', 'Divya']\n"
     ]
    }
   ],
   "source": [
    "students = ['Deepu','Sruthi','Divya']\n",
    "students.insert(2,'Ravi')\n",
    "print(students)"
   ]
  },
  {
   "cell_type": "code",
   "execution_count": null,
   "id": "3dbb12eb-895e-473c-9186-7d04e7eef288",
   "metadata": {},
   "outputs": [],
   "source": [
    "How to modify Deepu to Durga:"
   ]
  },
  {
   "cell_type": "code",
   "execution_count": 22,
   "id": "1dc21e08-02dd-4cf3-92ae-a520632d9bdc",
   "metadata": {},
   "outputs": [
    {
     "name": "stdout",
     "output_type": "stream",
     "text": [
      "['Durga', 'Sruthi', 'Ravi', 'Divya']\n"
     ]
    }
   ],
   "source": [
    "students = ['Deepu','Sruthi','Ravi','Divya']\n",
    "students[0] = 'Durga'\n",
    "print(students)"
   ]
  },
  {
   "cell_type": "code",
   "execution_count": null,
   "id": "d6485821-1e39-4681-9650-7eb578806da2",
   "metadata": {},
   "outputs": [],
   "source": [
    "How to delete elements in the list:"
   ]
  },
  {
   "cell_type": "code",
   "execution_count": 24,
   "id": "7c83cdfe-91da-48b3-b67e-26b2601f8341",
   "metadata": {},
   "outputs": [
    {
     "name": "stdout",
     "output_type": "stream",
     "text": [
      "['Durga', 'Sruthi', 'Divya']\n"
     ]
    }
   ],
   "source": [
    "students = ['Durga','Sruthi','Ravi','Divya']\n",
    "del students[2]\n",
    "print(students)"
   ]
  },
  {
   "cell_type": "code",
   "execution_count": null,
   "id": "1ce58e9d-9cba-4d30-a7f3-31c0c32919b2",
   "metadata": {},
   "outputs": [],
   "source": []
  },
  {
   "cell_type": "code",
   "execution_count": null,
   "id": "7a19df04-8ae4-4f92-b04f-0499ca8134d1",
   "metadata": {},
   "outputs": [],
   "source": []
  },
  {
   "cell_type": "code",
   "execution_count": null,
   "id": "ce830a82-911f-48ce-b3c7-23975b6a3fb0",
   "metadata": {},
   "outputs": [],
   "source": []
  },
  {
   "cell_type": "code",
   "execution_count": null,
   "id": "df597856-c34d-4fd8-a4ec-23d8958e1f5b",
   "metadata": {},
   "outputs": [],
   "source": []
  },
  {
   "cell_type": "code",
   "execution_count": null,
   "id": "9bb62263-a2bb-4268-a8a4-eeb7b069983f",
   "metadata": {},
   "outputs": [],
   "source": []
  },
  {
   "cell_type": "code",
   "execution_count": null,
   "id": "ac6f6fda-0d07-4805-b8df-c964c19322f3",
   "metadata": {},
   "outputs": [],
   "source": []
  }
 ],
 "metadata": {
  "kernelspec": {
   "display_name": "Python [conda env:base] *",
   "language": "python",
   "name": "conda-base-py"
  },
  "language_info": {
   "codemirror_mode": {
    "name": "ipython",
    "version": 3
   },
   "file_extension": ".py",
   "mimetype": "text/x-python",
   "name": "python",
   "nbconvert_exporter": "python",
   "pygments_lexer": "ipython3",
   "version": "3.13.5"
  }
 },
 "nbformat": 4,
 "nbformat_minor": 5
}
