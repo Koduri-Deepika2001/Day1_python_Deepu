{
 "cells": [
  {
   "cell_type": "code",
   "execution_count": null,
   "id": "15ef05d2-4ead-4ba6-a420-c3040bda07d8",
   "metadata": {},
   "outputs": [],
   "source": [
    "If statements:"
   ]
  },
  {
   "cell_type": "code",
   "execution_count": 1,
   "id": "aed1d199-e969-487b-8e41-262e73111dec",
   "metadata": {},
   "outputs": [
    {
     "name": "stdout",
     "output_type": "stream",
     "text": [
      "['audi', 'bmw', 'tata', 'kia']\n"
     ]
    }
   ],
   "source": [
    "cars = ['audi','bmw','tata','kia']\n",
    "print(cars)"
   ]
  },
  {
   "cell_type": "code",
   "execution_count": 2,
   "id": "4516d786-7e65-4303-9e44-4b335abd2ac0",
   "metadata": {},
   "outputs": [
    {
     "data": {
      "text/plain": [
       "list"
      ]
     },
     "execution_count": 2,
     "metadata": {},
     "output_type": "execute_result"
    }
   ],
   "source": [
    "type(cars)"
   ]
  },
  {
   "cell_type": "code",
   "execution_count": null,
   "id": "fdd72ce8-4b0b-48b7-ae5c-5aac41c41273",
   "metadata": {},
   "outputs": [],
   "source": [
    "I want to get 'tata' in capital letter and rest all the cars should be printed in title case:"
   ]
  },
  {
   "cell_type": "code",
   "execution_count": 3,
   "id": "bf532470-a05f-4ab6-892d-e9568a37b347",
   "metadata": {},
   "outputs": [
    {
     "name": "stdout",
     "output_type": "stream",
     "text": [
      "Audi\n",
      "Bmw\n",
      "TATA\n",
      "Kia\n"
     ]
    }
   ],
   "source": [
    "cars = ['audi','bmw','tata','kia']\n",
    "for a in cars:\n",
    "    if a == 'tata':\n",
    "        print(a.upper())\n",
    "    else:\n",
    "        print(a.title())"
   ]
  },
  {
   "cell_type": "code",
   "execution_count": null,
   "id": "ea553fa7-52e8-438c-bd5e-31f491fcc8a5",
   "metadata": {},
   "outputs": [],
   "source": [
    "Building an voting application:"
   ]
  },
  {
   "cell_type": "code",
   "execution_count": 4,
   "id": "6c572288-2662-4bcc-901e-9c8ca3b3a635",
   "metadata": {},
   "outputs": [
    {
     "data": {
      "text/plain": [
       "int"
      ]
     },
     "execution_count": 4,
     "metadata": {},
     "output_type": "execute_result"
    }
   ],
   "source": [
    "age = 17\n",
    "type(age)"
   ]
  },
  {
   "cell_type": "code",
   "execution_count": 7,
   "id": "a5267494-5405-4026-9ae7-e1b337390eef",
   "metadata": {},
   "outputs": [
    {
     "name": "stdout",
     "output_type": "stream",
     "text": [
      "you are not eligible to vote, try next year\n"
     ]
    }
   ],
   "source": [
    "age = 17\n",
    "if age>=18:\n",
    "   print(\"you are eligible to vote\")\n",
    "else:\n",
    "   print(\"you are not eligible to vote, try next year\")"
   ]
  },
  {
   "cell_type": "code",
   "execution_count": null,
   "id": "828d95d4-8070-48f8-9d4c-6f7d3f359e75",
   "metadata": {},
   "outputs": [],
   "source": [
    "Concept of uuser input:"
   ]
  },
  {
   "cell_type": "code",
   "execution_count": 8,
   "id": "74a2d78c-701f-49cc-be69-24f2e2159e9e",
   "metadata": {},
   "outputs": [
    {
     "name": "stdin",
     "output_type": "stream",
     "text": [
      "Tell me something and i will  repeat!! Hello\n"
     ]
    },
    {
     "name": "stdout",
     "output_type": "stream",
     "text": [
      "Hello\n"
     ]
    }
   ],
   "source": [
    "message = input(\"Tell me something and i will  repeat!!\")\n",
    "print(message)"
   ]
  },
  {
   "cell_type": "code",
   "execution_count": 11,
   "id": "cda2d5eb-9d4a-4a94-a1bf-37c83f76cfb3",
   "metadata": {},
   "outputs": [
    {
     "name": "stdin",
     "output_type": "stream",
     "text": [
      "please enter your name: deepu\n"
     ]
    },
    {
     "name": "stdout",
     "output_type": "stream",
     "text": [
      "|n Hello, deepu!\n"
     ]
    }
   ],
   "source": [
    "name = input(\"please enter your name:\")\n",
    "print(f\"|n Hello, {name}!\")"
   ]
  },
  {
   "cell_type": "code",
   "execution_count": 12,
   "id": "58b699ef-e057-4ed2-93f1-2a1e074b2d32",
   "metadata": {},
   "outputs": [
    {
     "name": "stdin",
     "output_type": "stream",
     "text": [
      "How old are you? 7\n"
     ]
    },
    {
     "name": "stdout",
     "output_type": "stream",
     "text": [
      "you are not eligible to vote, try next year\n"
     ]
    }
   ],
   "source": [
    "age = input(\"How old are you?\")\n",
    "age = int(age)\n",
    "if age>=18:\n",
    "    print(\"you are eligible to vote\")\n",
    "else:\n",
    "   print(\"you are not eligible to vote, try next year\")"
   ]
  },
  {
   "cell_type": "code",
   "execution_count": null,
   "id": "6cba89f6-2865-46b4-8c2d-c9c5d2958e52",
   "metadata": {},
   "outputs": [],
   "source": [
    "number = input(\"Enter a number, i will tell you its even or odd!!\")\n",
    "number = int(number)\n"
   ]
  },
  {
   "cell_type": "code",
   "execution_count": null,
   "id": "28ceec1b-af99-4820-8f87-c3efb93cb3ba",
   "metadata": {},
   "outputs": [],
   "source": []
  },
  {
   "cell_type": "code",
   "execution_count": null,
   "id": "bd1d6b32-b3c0-44d9-90f0-b9bd2c9afe7d",
   "metadata": {},
   "outputs": [],
   "source": []
  },
  {
   "cell_type": "code",
   "execution_count": null,
   "id": "63837261-6121-4b62-a105-906dec0250f6",
   "metadata": {},
   "outputs": [],
   "source": []
  },
  {
   "cell_type": "code",
   "execution_count": null,
   "id": "0a4daedf-0f4b-427f-853a-eca2f1faa804",
   "metadata": {},
   "outputs": [],
   "source": []
  },
  {
   "cell_type": "code",
   "execution_count": null,
   "id": "6bbd2cf6-e87f-401c-931f-f0adf9cb6bea",
   "metadata": {},
   "outputs": [],
   "source": []
  },
  {
   "cell_type": "code",
   "execution_count": null,
   "id": "e92d4962-bfbc-4f68-9e63-ff420b2fa28a",
   "metadata": {},
   "outputs": [],
   "source": []
  }
 ],
 "metadata": {
  "kernelspec": {
   "display_name": "Python [conda env:base] *",
   "language": "python",
   "name": "conda-base-py"
  },
  "language_info": {
   "codemirror_mode": {
    "name": "ipython",
    "version": 3
   },
   "file_extension": ".py",
   "mimetype": "text/x-python",
   "name": "python",
   "nbconvert_exporter": "python",
   "pygments_lexer": "ipython3",
   "version": "3.13.5"
  }
 },
 "nbformat": 4,
 "nbformat_minor": 5
}
