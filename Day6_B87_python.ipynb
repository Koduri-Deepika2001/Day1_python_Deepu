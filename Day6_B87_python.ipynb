{
 "cells": [
  {
   "cell_type": "code",
   "execution_count": null,
   "id": "ab11cbfc-7da5-4902-8ab4-94314381cbf0",
   "metadata": {},
   "outputs": [],
   "source": [
    "Introduction to dictionaries:"
   ]
  },
  {
   "cell_type": "code",
   "execution_count": 1,
   "id": "c26c18c9-a1ad-4f50-9841-c07c55c4ddb4",
   "metadata": {},
   "outputs": [
    {
     "name": "stdout",
     "output_type": "stream",
     "text": [
      "{'color': 'green', 'points': 5}\n"
     ]
    }
   ],
   "source": [
    "alien = {'color':'green','points':5}\n",
    "print(alien)"
   ]
  },
  {
   "cell_type": "code",
   "execution_count": 2,
   "id": "66dcda77-f9c2-4ffa-9b46-ce0a770aa81f",
   "metadata": {},
   "outputs": [
    {
     "data": {
      "text/plain": [
       "dict"
      ]
     },
     "execution_count": 2,
     "metadata": {},
     "output_type": "execute_result"
    }
   ],
   "source": [
    "type(alien)"
   ]
  },
  {
   "cell_type": "code",
   "execution_count": 3,
   "id": "ad160b28-b4e8-489d-aced-7c3ed0914eeb",
   "metadata": {},
   "outputs": [
    {
     "name": "stdout",
     "output_type": "stream",
     "text": [
      "{'color': 'green', 'points': 5, 'start_position': 'level1'}\n"
     ]
    }
   ],
   "source": [
    "alien = {'color':'green','points':5}\n",
    "alien[\"start_position\"] = \"level1\"\n",
    "print(alien)"
   ]
  },
  {
   "cell_type": "code",
   "execution_count": 4,
   "id": "8e4fe8fd-b1e1-42d1-99de-3b2cab614cc0",
   "metadata": {},
   "outputs": [
    {
     "name": "stdout",
     "output_type": "stream",
     "text": [
      "green\n"
     ]
    }
   ],
   "source": [
    "alien = {'color':'green','points':5}\n",
    "print(alien['color'])"
   ]
  },
  {
   "cell_type": "code",
   "execution_count": null,
   "id": "4ecdb5b2-eb56-4a91-bdab-e5adb76b8265",
   "metadata": {},
   "outputs": [],
   "source": [
    "I want to modify the key value pairs in the dictionary:"
   ]
  },
  {
   "cell_type": "code",
   "execution_count": 5,
   "id": "cec8e05c-9534-478c-afdd-6820c57253f9",
   "metadata": {},
   "outputs": [
    {
     "name": "stdout",
     "output_type": "stream",
     "text": [
      "{'color': 'black', 'points': 5}\n"
     ]
    }
   ],
   "source": [
    "alien = {'color':'green','points':5}\n",
    "alien['color'] = 'black'\n",
    "print(alien)"
   ]
  },
  {
   "cell_type": "code",
   "execution_count": null,
   "id": "8a585968-e277-4812-9428-526ad68eafb2",
   "metadata": {},
   "outputs": [],
   "source": [
    "I want you to create the facebook user account:"
   ]
  },
  {
   "cell_type": "code",
   "execution_count": 11,
   "id": "cf06cc6d-995c-410d-abfb-494a0a7c8d95",
   "metadata": {},
   "outputs": [
    {
     "name": "stdout",
     "output_type": "stream",
     "text": [
      "{'firstname': 'code', 'lastname': 'training', 'username': 'codetrainingacademy', 'dob': '01-01-2020', 'pwd': '54321'}\n"
     ]
    }
   ],
   "source": [
    "user_account = {'firstname': 'code','lastname': 'training','username': 'codetrainingacademy','dob': '01-01-2020','pwd': '54321'}\n",
    "print(user_account)"
   ]
  },
  {
   "cell_type": "code",
   "execution_count": null,
   "id": "06912696-4ab7-47fc-8b0f-96c2c8edab88",
   "metadata": {},
   "outputs": [],
   "source": [
    "How to delete the key value pairs:"
   ]
  },
  {
   "cell_type": "code",
   "execution_count": 13,
   "id": "c6b6c9b9-f89d-4b53-a259-7f8ebcfb2242",
   "metadata": {},
   "outputs": [
    {
     "name": "stdout",
     "output_type": "stream",
     "text": [
      "{'firstname': 'code', 'username': 'codetrainingacademy', 'dob': '01-01-2020', 'pwd': '54321'}\n"
     ]
    }
   ],
   "source": [
    "user_account = {'firstname': 'code','lastname': 'training','username': 'codetrainingacademy','dob': '01-01-2020','pwd': '54321'}\n",
    "del user_account['lastname']\n",
    "print(user_account)"
   ]
  },
  {
   "cell_type": "code",
   "execution_count": null,
   "id": "cc5901b1-751d-4555-8154-a8b2ea7ee5d7",
   "metadata": {},
   "outputs": [],
   "source": [
    "Introduction to looping statements:"
   ]
  },
  {
   "cell_type": "code",
   "execution_count": 16,
   "id": "f20e4b91-d2fc-4695-8563-68a00e18f9ed",
   "metadata": {},
   "outputs": [
    {
     "name": "stdout",
     "output_type": "stream",
     "text": [
      "keep up good work,Durga\n"
     ]
    }
   ],
   "source": [
    "students = ['durga','deepu','divya']\n",
    "print(f\"keep up good work,{students[0].title()}\")"
   ]
  },
  {
   "cell_type": "code",
   "execution_count": null,
   "id": "98fee112-8ce2-4e02-bc35-5b4e1c5023fb",
   "metadata": {},
   "outputs": [],
   "source": [
    "Introduction to for loop:"
   ]
  },
  {
   "cell_type": "code",
   "execution_count": null,
   "id": "9314bf1f-0906-4f50-b029-011ecfb7a3cf",
   "metadata": {},
   "outputs": [],
   "source": [
    "#General syntax of for loop:"
   ]
  },
  {
   "cell_type": "code",
   "execution_count": 15,
   "id": "4571c3ad-93d9-4f33-a241-cd6564ecd852",
   "metadata": {},
   "outputs": [
    {
     "name": "stdout",
     "output_type": "stream",
     "text": [
      "1\n",
      "2\n",
      "3\n",
      "4\n"
     ]
    }
   ],
   "source": [
    "mainvar = [1,2,3,4]\n",
    "for tempvar in mainvar:\n",
    "    print(tempvar)"
   ]
  },
  {
   "cell_type": "code",
   "execution_count": null,
   "id": "4613c3b8-c144-4b55-a2e2-7948b207d8e9",
   "metadata": {},
   "outputs": [],
   "source": [
    "students = ['durga','deepu','divya']\n",
    "for x in students:\n",
    "    print"
   ]
  },
  {
   "cell_type": "code",
   "execution_count": null,
   "id": "f633092d-0c57-4162-9dfa-2e00592019ff",
   "metadata": {},
   "outputs": [],
   "source": []
  },
  {
   "cell_type": "code",
   "execution_count": null,
   "id": "f85d7dd0-717b-495c-8655-7ad3ed9bce5d",
   "metadata": {},
   "outputs": [],
   "source": []
  },
  {
   "cell_type": "code",
   "execution_count": null,
   "id": "43a394b3-e0fd-4e8c-a8d0-414c392a5610",
   "metadata": {},
   "outputs": [],
   "source": []
  },
  {
   "cell_type": "code",
   "execution_count": null,
   "id": "a635ecb9-5deb-4697-8f96-617e48563860",
   "metadata": {},
   "outputs": [],
   "source": []
  },
  {
   "cell_type": "code",
   "execution_count": null,
   "id": "8a2d3bf1-dbbd-4859-bda7-21b3177cd71b",
   "metadata": {},
   "outputs": [],
   "source": []
  },
  {
   "cell_type": "code",
   "execution_count": null,
   "id": "82add7f2-fd7c-48da-9c16-338a86db205a",
   "metadata": {},
   "outputs": [],
   "source": []
  },
  {
   "cell_type": "code",
   "execution_count": null,
   "id": "512785e3-5742-42eb-8def-07fa29aed625",
   "metadata": {},
   "outputs": [],
   "source": []
  },
  {
   "cell_type": "code",
   "execution_count": null,
   "id": "f2755fb1-a4e8-4464-af76-946739b71c73",
   "metadata": {},
   "outputs": [],
   "source": []
  },
  {
   "cell_type": "code",
   "execution_count": null,
   "id": "758dc715-c186-4df0-9ed9-a99aed4fb7c5",
   "metadata": {},
   "outputs": [],
   "source": []
  }
 ],
 "metadata": {
  "kernelspec": {
   "display_name": "Python [conda env:base] *",
   "language": "python",
   "name": "conda-base-py"
  },
  "language_info": {
   "codemirror_mode": {
    "name": "ipython",
    "version": 3
   },
   "file_extension": ".py",
   "mimetype": "text/x-python",
   "name": "python",
   "nbconvert_exporter": "python",
   "pygments_lexer": "ipython3",
   "version": "3.13.5"
  }
 },
 "nbformat": 4,
 "nbformat_minor": 5
}
