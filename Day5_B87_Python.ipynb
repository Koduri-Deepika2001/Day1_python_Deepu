{
 "cells": [
  {
   "cell_type": "code",
   "execution_count": null,
   "id": "5a3cf7ac-0613-4ec3-af89-7dc3781b70a5",
   "metadata": {},
   "outputs": [],
   "source": [
    "How to organise the list data types:"
   ]
  },
  {
   "cell_type": "code",
   "execution_count": 1,
   "id": "50030938-eafc-40a5-9835-a684641b120d",
   "metadata": {},
   "outputs": [
    {
     "name": "stdout",
     "output_type": "stream",
     "text": [
      "['bmw', 'tata', 'suzuki']\n"
     ]
    }
   ],
   "source": [
    "cars = ['bmw','tata','suzuki']\n",
    "print(cars)"
   ]
  },
  {
   "cell_type": "code",
   "execution_count": 2,
   "id": "0379e325-ba2a-4953-a188-b70059be6ba9",
   "metadata": {},
   "outputs": [
    {
     "data": {
      "text/plain": [
       "list"
      ]
     },
     "execution_count": 2,
     "metadata": {},
     "output_type": "execute_result"
    }
   ],
   "source": [
    "type(cars)"
   ]
  },
  {
   "cell_type": "code",
   "execution_count": null,
   "id": "3aab5372-df19-435e-abe4-835b1dc506b9",
   "metadata": {},
   "outputs": [],
   "source": [
    "Temporary approach:"
   ]
  },
  {
   "cell_type": "code",
   "execution_count": 3,
   "id": "39093406-0868-45bc-9cc4-9dceac60cbec",
   "metadata": {},
   "outputs": [
    {
     "name": "stdout",
     "output_type": "stream",
     "text": [
      "['bmw', 'suzuki', 'tata']\n"
     ]
    }
   ],
   "source": [
    "cars = ['bmw','tata','suzuki']\n",
    "print(sorted(cars))"
   ]
  },
  {
   "cell_type": "code",
   "execution_count": null,
   "id": "d177d95b-7062-4997-805b-faebb41a96f2",
   "metadata": {},
   "outputs": [],
   "source": [
    "permanent approach:"
   ]
  },
  {
   "cell_type": "code",
   "execution_count": 5,
   "id": "5c3b170b-5747-42b6-ab6a-505c0a14e3e1",
   "metadata": {},
   "outputs": [
    {
     "name": "stdout",
     "output_type": "stream",
     "text": [
      "['bmw', 'suzuki', 'tata']\n"
     ]
    }
   ],
   "source": [
    "cars = ['bmw','tata','suzuki']\n",
    "cars.sort()\n",
    "print(cars)"
   ]
  },
  {
   "cell_type": "code",
   "execution_count": null,
   "id": "d814327d-de40-4eea-aac5-e4f6e9e6abf1",
   "metadata": {},
   "outputs": [],
   "source": [
    "Print the list in A-Z, Z-A:"
   ]
  },
  {
   "cell_type": "code",
   "execution_count": 6,
   "id": "d02b6384-f0f8-41e0-90eb-61e8da8a8e9d",
   "metadata": {},
   "outputs": [
    {
     "name": "stdout",
     "output_type": "stream",
     "text": [
      "['suzuki', 'tata', 'bmw']\n"
     ]
    }
   ],
   "source": [
    "cars = ['bmw','tata','suzuki']\n",
    "cars.reverse()\n",
    "print(cars)  #Z-A order"
   ]
  },
  {
   "cell_type": "code",
   "execution_count": null,
   "id": "1b151744-2aa0-42f1-85d2-3179a571bc84",
   "metadata": {},
   "outputs": [],
   "source": [
    "Introducing to Slicing:"
   ]
  },
  {
   "cell_type": "code",
   "execution_count": 7,
   "id": "65007d6b-fa07-4811-a75c-b934f91963ab",
   "metadata": {},
   "outputs": [
    {
     "name": "stdout",
     "output_type": "stream",
     "text": [
      "['deepu', 'divya', 'sruthi', 'sai']\n"
     ]
    }
   ],
   "source": [
    "students=['deepu','divya','sruthi','sai']\n",
    "print(students)"
   ]
  },
  {
   "cell_type": "code",
   "execution_count": null,
   "id": "e149f91d-cb0c-4961-827d-0dc9092eec22",
   "metadata": {},
   "outputs": [],
   "source": [
    "General syntax for slicing:"
   ]
  },
  {
   "cell_type": "code",
   "execution_count": null,
   "id": "569de853-a117-48b4-bbb0-94c9db46f83e",
   "metadata": {},
   "outputs": [],
   "source": [
    "start_value:stop_value:step_count]"
   ]
  },
  {
   "cell_type": "code",
   "execution_count": 8,
   "id": "25ec75c9-f5d8-4e60-9c4c-b22bc03c896e",
   "metadata": {},
   "outputs": [
    {
     "name": "stdout",
     "output_type": "stream",
     "text": [
      "['deepu']\n"
     ]
    }
   ],
   "source": [
    "students=['deepu','divya','sruthi','sai']\n",
    "print(students[0:1])"
   ]
  },
  {
   "cell_type": "code",
   "execution_count": 9,
   "id": "a1702a92-036c-49a1-b756-753a5bd594dc",
   "metadata": {},
   "outputs": [
    {
     "name": "stdout",
     "output_type": "stream",
     "text": [
      "['deepu', 'divya']\n"
     ]
    }
   ],
   "source": [
    "students=['deepu','divya','sruthi','sai']\n",
    "print(students[0:2])"
   ]
  },
  {
   "cell_type": "code",
   "execution_count": 10,
   "id": "997723e9-fe00-4ee4-b0eb-df8d5f85ffc6",
   "metadata": {},
   "outputs": [
    {
     "name": "stdout",
     "output_type": "stream",
     "text": [
      "['deepu', 'sruthi']\n"
     ]
    }
   ],
   "source": [
    "students=['deepu','divya','sruthi','sai']\n",
    "print(students[0:4:2])"
   ]
  },
  {
   "cell_type": "code",
   "execution_count": null,
   "id": "8ab7dab8-99ed-4d5b-b077-0c89165f837b",
   "metadata": {},
   "outputs": [],
   "source": [
    "Introduction to Tuple data types:"
   ]
  },
  {
   "cell_type": "code",
   "execution_count": 11,
   "id": "ac882516-7dd1-4aee-99bc-a8ef431c8a62",
   "metadata": {},
   "outputs": [
    {
     "name": "stdout",
     "output_type": "stream",
     "text": [
      "(20, 50)\n"
     ]
    }
   ],
   "source": [
    "dimensions = (20,50)\n",
    "print(dimensions)"
   ]
  },
  {
   "cell_type": "code",
   "execution_count": 12,
   "id": "abe6c3bc-5dbf-453b-8dd0-b400c2adad0d",
   "metadata": {},
   "outputs": [
    {
     "data": {
      "text/plain": [
       "tuple"
      ]
     },
     "execution_count": 12,
     "metadata": {},
     "output_type": "execute_result"
    }
   ],
   "source": [
    "type(dimensions)"
   ]
  },
  {
   "cell_type": "code",
   "execution_count": 17,
   "id": "bd0434a3-c046-4ea1-97a1-7d2fb6394f90",
   "metadata": {},
   "outputs": [
    {
     "name": "stdout",
     "output_type": "stream",
     "text": [
      "50\n"
     ]
    }
   ],
   "source": [
    "dimensions = [20,50]\n",
    "dimensions[0] = 50\n",
    "print(dimensions[1])"
   ]
  },
  {
   "cell_type": "code",
   "execution_count": null,
   "id": "775e066a-d4f5-4d3e-9d4f-1b5b7dd133d6",
   "metadata": {},
   "outputs": [],
   "source": []
  },
  {
   "cell_type": "code",
   "execution_count": null,
   "id": "c19c3c55-9d39-4673-af52-b8457bcfdaf2",
   "metadata": {},
   "outputs": [],
   "source": []
  },
  {
   "cell_type": "code",
   "execution_count": null,
   "id": "43198e66-f8ca-4d58-a52c-d0f445debf37",
   "metadata": {},
   "outputs": [],
   "source": []
  },
  {
   "cell_type": "code",
   "execution_count": null,
   "id": "8dfd3e43-4e2d-4019-bad1-e32fae6d60c6",
   "metadata": {},
   "outputs": [],
   "source": []
  },
  {
   "cell_type": "code",
   "execution_count": null,
   "id": "e6ab1db9-dc43-4116-895f-d63e2f2b073d",
   "metadata": {},
   "outputs": [],
   "source": []
  }
 ],
 "metadata": {
  "kernelspec": {
   "display_name": "Python [conda env:base] *",
   "language": "python",
   "name": "conda-base-py"
  },
  "language_info": {
   "codemirror_mode": {
    "name": "ipython",
    "version": 3
   },
   "file_extension": ".py",
   "mimetype": "text/x-python",
   "name": "python",
   "nbconvert_exporter": "python",
   "pygments_lexer": "ipython3",
   "version": "3.13.5"
  }
 },
 "nbformat": 4,
 "nbformat_minor": 5
}
