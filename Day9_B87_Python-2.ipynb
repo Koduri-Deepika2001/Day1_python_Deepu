{
 "cells": [
  {
   "cell_type": "code",
   "execution_count": null,
   "id": "763e741d-2c06-4db7-8517-24b9d2c32736",
   "metadata": {},
   "outputs": [],
   "source": [
    "Introduction to python functions:"
   ]
  },
  {
   "cell_type": "code",
   "execution_count": null,
   "id": "57653976-2118-468a-85ca-134bfbc6a469",
   "metadata": {},
   "outputs": [],
   "source": [
    "How to define a function: def"
   ]
  },
  {
   "cell_type": "code",
   "execution_count": 1,
   "id": "4d85b4c3-84c2-4865-be03-af722d300317",
   "metadata": {},
   "outputs": [],
   "source": [
    "def greet():  # this part is defining the function\n",
    "    \"\"\"this function will greet the user\"\"\"  # this is doc string\n",
    "    print(\"Hello\")"
   ]
  },
  {
   "cell_type": "code",
   "execution_count": 2,
   "id": "4fa8525e-0969-4184-8f49-ba367a96672d",
   "metadata": {},
   "outputs": [
    {
     "name": "stdout",
     "output_type": "stream",
     "text": [
      "Hello\n"
     ]
    }
   ],
   "source": [
    "greet()  # function call"
   ]
  },
  {
   "cell_type": "code",
   "execution_count": 3,
   "id": "99be7a80-e476-4413-a4d7-d3da08e53180",
   "metadata": {},
   "outputs": [],
   "source": [
    "def greet_user():\n",
    "    \"\"\"display a simple greeting\"\"\"\n",
    "    print(\"Hello\")"
   ]
  },
  {
   "cell_type": "code",
   "execution_count": 4,
   "id": "a462b1bd-ae3e-4df5-99d9-b7247c0cb3bd",
   "metadata": {},
   "outputs": [
    {
     "name": "stdout",
     "output_type": "stream",
     "text": [
      "Hello\n"
     ]
    }
   ],
   "source": [
    "greet_user()"
   ]
  },
  {
   "cell_type": "code",
   "execution_count": 5,
   "id": "a2dcc5f7-802e-4567-bba5-8997310c0526",
   "metadata": {},
   "outputs": [],
   "source": [
    "def greet_user(username):  #Parameters declaration (params)\n",
    "    \"\"\"Display a simple greeting\"\"\"\n",
    "    print(f\"Hello,{username.title()}\")"
   ]
  },
  {
   "cell_type": "code",
   "execution_count": 6,
   "id": "2d43eb0f-dfc2-4008-9ff6-5aa104911cd5",
   "metadata": {},
   "outputs": [
    {
     "name": "stdout",
     "output_type": "stream",
     "text": [
      "Hello,Deepu\n"
     ]
    }
   ],
   "source": [
    "greet_user('Deepu')   #arguments passing (args)"
   ]
  },
  {
   "cell_type": "code",
   "execution_count": null,
   "id": "c5b53639-09f6-415e-a855-56a1d447aa0f",
   "metadata": {},
   "outputs": [],
   "source": [
    "Types of arguments:\n",
    "\n",
    "1. Positional argument\n",
    "2. Keyword argument\n",
    "3. arbitary argument"
   ]
  },
  {
   "cell_type": "code",
   "execution_count": null,
   "id": "23918c98-0766-4da9-a85c-c1835c148375",
   "metadata": {},
   "outputs": [],
   "source": [
    "Defining the function:"
   ]
  },
  {
   "cell_type": "code",
   "execution_count": 2,
   "id": "d6db49b7-e020-4b70-84a5-8668fbe9a470",
   "metadata": {},
   "outputs": [],
   "source": [
    "def describe_pet(animal_type, pet_name):\n",
    "    \"\"\"describe the information about the pet\"\"\"\n",
    "    print(f\"\\n I have a {animal_type}\")\n",
    "    print(f\"my {animal_type}'s name is {pet_name}\")"
   ]
  },
  {
   "cell_type": "code",
   "execution_count": 3,
   "id": "e705e7fb-dc91-4670-824e-8de718ef881a",
   "metadata": {},
   "outputs": [
    {
     "name": "stdout",
     "output_type": "stream",
     "text": [
      "\n",
      " I have a dog\n",
      "my dog's name is bruno\n"
     ]
    }
   ],
   "source": [
    "describe_pet('dog','bruno')"
   ]
  },
  {
   "cell_type": "code",
   "execution_count": 5,
   "id": "265defcc-aa01-4223-87a9-9f27feeeab3a",
   "metadata": {},
   "outputs": [
    {
     "name": "stdout",
     "output_type": "stream",
     "text": [
      "\n",
      " I have a parrot\n",
      "my parrot's name is sweety\n"
     ]
    }
   ],
   "source": [
    "describe_pet('parrot','sweety')  #positional arguments"
   ]
  },
  {
   "cell_type": "code",
   "execution_count": 6,
   "id": "51b48296-bec6-4721-8017-14364a5bfb05",
   "metadata": {},
   "outputs": [
    {
     "name": "stdout",
     "output_type": "stream",
     "text": [
      "\n",
      " I have a parrot\n",
      "my parrot's name is sweety\n"
     ]
    }
   ],
   "source": [
    "describe_pet(pet_name = 'sweety', animal_type = 'parrot')  #keyword arguments"
   ]
  },
  {
   "cell_type": "code",
   "execution_count": null,
   "id": "89e574c8-0790-4ab9-b8ea-d4c12841b86b",
   "metadata": {},
   "outputs": [],
   "source": []
  },
  {
   "cell_type": "code",
   "execution_count": null,
   "id": "67a592f6-175f-4457-82c7-6b57e65ca620",
   "metadata": {},
   "outputs": [],
   "source": []
  },
  {
   "cell_type": "code",
   "execution_count": null,
   "id": "862cb083-2a5a-48cf-b0bc-e1f8213e6285",
   "metadata": {},
   "outputs": [],
   "source": []
  }
 ],
 "metadata": {
  "kernelspec": {
   "display_name": "Python [conda env:base] *",
   "language": "python",
   "name": "conda-base-py"
  },
  "language_info": {
   "codemirror_mode": {
    "name": "ipython",
    "version": 3
   },
   "file_extension": ".py",
   "mimetype": "text/x-python",
   "name": "python",
   "nbconvert_exporter": "python",
   "pygments_lexer": "ipython3",
   "version": "3.13.5"
  }
 },
 "nbformat": 4,
 "nbformat_minor": 5
}
