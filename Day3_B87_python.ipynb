{
 "cells": [
  {
   "cell_type": "code",
   "execution_count": null,
   "id": "03e5b6ed-d3af-4ef4-8f26-b1a54a55b6fb",
   "metadata": {},
   "outputs": [],
   "source": [
    "Introduction to f strings:"
   ]
  },
  {
   "cell_type": "code",
   "execution_count": null,
   "id": "697e3d45-1966-4f51-aec7-594d9e0c1659",
   "metadata": {},
   "outputs": [],
   "source": [
    "firstname = 'koduri'\n",
    "lastname = 'deepu'"
   ]
  },
  {
   "cell_type": "code",
   "execution_count": null,
   "id": "9adaf24c-d898-4782-bab3-b8d18b397d47",
   "metadata": {},
   "outputs": [],
   "source": [
    "I want to get the full name.....?"
   ]
  },
  {
   "cell_type": "code",
   "execution_count": null,
   "id": "d59e1959-9a92-4680-b61f-b8d8dfb07f9c",
   "metadata": {},
   "outputs": [],
   "source": [
    "f\"custom message {place_holder1} {placeholder_2}.......{placeholder_3}\""
   ]
  },
  {
   "cell_type": "code",
   "execution_count": 2,
   "id": "544d9ebf-ae38-4b9f-a1ea-e0ac63234f61",
   "metadata": {},
   "outputs": [
    {
     "name": "stdout",
     "output_type": "stream",
     "text": [
      "kodurideepu\n"
     ]
    }
   ],
   "source": [
    "firstname = 'koduri'\n",
    "lastname = 'deepu'\n",
    "fullname = f\"{firstname}{lastname}\"\n",
    "print(fullname)"
   ]
  },
  {
   "cell_type": "code",
   "execution_count": null,
   "id": "63438cc7-e5e3-4f62-af4e-0c41d773bac4",
   "metadata": {},
   "outputs": [],
   "source": [
    "To correct format:"
   ]
  },
  {
   "cell_type": "code",
   "execution_count": 3,
   "id": "5684ddcd-1758-42e9-921e-5f6a7d407aa0",
   "metadata": {},
   "outputs": [
    {
     "name": "stdout",
     "output_type": "stream",
     "text": [
      "Hello,Kodurideepu\n"
     ]
    }
   ],
   "source": [
    "firstname = 'koduri'\n",
    "lastname = 'deepu'\n",
    "fullname = f\"{firstname}{lastname}\"\n",
    "message = f\"Hello,{fullname.title()}\"\n",
    "print(message)"
   ]
  },
  {
   "cell_type": "code",
   "execution_count": null,
   "id": "64327943-656f-4d43-9b6a-20ed6627197a",
   "metadata": {},
   "outputs": [],
   "source": [
    "Adding whitespaces to strings:"
   ]
  },
  {
   "cell_type": "code",
   "execution_count": 4,
   "id": "8e340f02-25b2-41ea-9b76-857939ddc5b2",
   "metadata": {},
   "outputs": [
    {
     "name": "stdout",
     "output_type": "stream",
     "text": [
      "favourite_language:\n",
      "python\n",
      "java\n",
      "c\n"
     ]
    }
   ],
   "source": [
    "print(\"favourite_language:\\npython\\njava\\nc\") #\\n --- new line delimiter"
   ]
  },
  {
   "cell_type": "code",
   "execution_count": 5,
   "id": "dd6ed28b-eb10-41f1-bcdb-c58dc0f8ef14",
   "metadata": {},
   "outputs": [
    {
     "name": "stdout",
     "output_type": "stream",
     "text": [
      "favourite_language:\tpython\tjava\tc\n"
     ]
    }
   ],
   "source": [
    "print(\"favourite_language:\\tpython\\tjava\\tc\") #\\t --- tab delimiter"
   ]
  },
  {
   "cell_type": "code",
   "execution_count": null,
   "id": "c3435c26-9fb8-47c8-9d52-58d0b515fbf5",
   "metadata": {},
   "outputs": [],
   "source": [
    "Removing whitespaces to string:"
   ]
  },
  {
   "cell_type": "code",
   "execution_count": 6,
   "id": "7d2dd6aa-8cde-4805-bb10-025edb33380c",
   "metadata": {},
   "outputs": [
    {
     "name": "stdout",
     "output_type": "stream",
     "text": [
      "  python\n"
     ]
    }
   ],
   "source": [
    "name = '  python'\n",
    "print(name)"
   ]
  },
  {
   "cell_type": "code",
   "execution_count": 12,
   "id": "e723a506-d887-40b2-a0f1-da592af2b2fe",
   "metadata": {},
   "outputs": [
    {
     "name": "stdout",
     "output_type": "stream",
     "text": [
      "python\n"
     ]
    }
   ],
   "source": [
    "name = 'python'\n",
    "name.lstrip() #lstrip() --- leading space\n",
    "print(name)"
   ]
  },
  {
   "cell_type": "code",
   "execution_count": 8,
   "id": "02aed531-71c1-4a68-91bd-927825232097",
   "metadata": {},
   "outputs": [
    {
     "name": "stdout",
     "output_type": "stream",
     "text": [
      "python   \n"
     ]
    }
   ],
   "source": [
    "name = 'python   '\n",
    "print(name)"
   ]
  },
  {
   "cell_type": "code",
   "execution_count": 13,
   "id": "b551cc90-df41-4c5f-acb6-5879ad6d22b7",
   "metadata": {},
   "outputs": [
    {
     "name": "stdout",
     "output_type": "stream",
     "text": [
      "python\n"
     ]
    }
   ],
   "source": [
    "name = 'python'\n",
    "name.rstrip() #rstrip() --- trailing space\n",
    "print(name)"
   ]
  },
  {
   "cell_type": "code",
   "execution_count": 10,
   "id": "1e774550-d242-436a-99d2-77f4b7a5365d",
   "metadata": {},
   "outputs": [
    {
     "name": "stdout",
     "output_type": "stream",
     "text": [
      "  python  \n"
     ]
    }
   ],
   "source": [
    "name = '  python  '\n",
    "print(name)"
   ]
  },
  {
   "cell_type": "code",
   "execution_count": 14,
   "id": "90786a71-fcbe-45b9-a8e4-ac6ac327abb6",
   "metadata": {},
   "outputs": [
    {
     "name": "stdout",
     "output_type": "stream",
     "text": [
      "python\n"
     ]
    }
   ],
   "source": [
    "name = 'python'\n",
    "name.strip() #strip() --- Removing all space\n",
    "print(name)"
   ]
  },
  {
   "cell_type": "code",
   "execution_count": 15,
   "id": "b0945934-8673-449e-856a-c77ea7e9237e",
   "metadata": {},
   "outputs": [
    {
     "name": "stdout",
     "output_type": "stream",
     "text": [
      " p y t h on \n"
     ]
    }
   ],
   "source": [
    "name = ' p y t h on '\n",
    "print(name)"
   ]
  },
  {
   "cell_type": "code",
   "execution_count": 17,
   "id": "6ba6ccf5-f7f9-4871-b568-390552772fd2",
   "metadata": {},
   "outputs": [
    {
     "name": "stdout",
     "output_type": "stream",
     "text": [
      "python\n"
     ]
    }
   ],
   "source": [
    "name = 'python'\n",
    "name.replace(' ',' ') #replace() --- `remove spaces'\n",
    "print(name)"
   ]
  },
  {
   "cell_type": "code",
   "execution_count": null,
   "id": "7f390da8-c99d-49e1-981d-65e149d064fa",
   "metadata": {},
   "outputs": [],
   "source": []
  }
 ],
 "metadata": {
  "kernelspec": {
   "display_name": "Python [conda env:base] *",
   "language": "python",
   "name": "conda-base-py"
  },
  "language_info": {
   "codemirror_mode": {
    "name": "ipython",
    "version": 3
   },
   "file_extension": ".py",
   "mimetype": "text/x-python",
   "name": "python",
   "nbconvert_exporter": "python",
   "pygments_lexer": "ipython3",
   "version": "3.13.5"
  }
 },
 "nbformat": 4,
 "nbformat_minor": 5
}
