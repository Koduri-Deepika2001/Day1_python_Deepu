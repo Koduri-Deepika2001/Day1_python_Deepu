{
 "cells": [
  {
   "cell_type": "code",
   "execution_count": null,
   "id": "d985c89a-bdcc-4b4f-aacf-788f4f2e6c42",
   "metadata": {},
   "outputs": [],
   "source": [
    "Arbitary arguments:"
   ]
  },
  {
   "cell_type": "code",
   "execution_count": null,
   "id": "df33964d-6439-41c5-a625-b705ab89bada",
   "metadata": {},
   "outputs": [],
   "source": [
    "Default arguments:"
   ]
  },
  {
   "cell_type": "code",
   "execution_count": 1,
   "id": "b8740414-902b-487e-b61e-53df93582a5d",
   "metadata": {},
   "outputs": [],
   "source": [
    "def describe_pet(pet_name, animal_type = 'dog'):\n",
    "    \"\"\"describe the information about the pet\"\"\"\n",
    "    print(f\"\\n I have a {animal_type}\")\n",
    "    print(f\" my {animal_type}'s name is {pet_name}\")"
   ]
  },
  {
   "cell_type": "code",
   "execution_count": 2,
   "id": "19d6897d-1fcd-4219-94be-94af21719425",
   "metadata": {},
   "outputs": [
    {
     "name": "stdout",
     "output_type": "stream",
     "text": [
      "\n",
      " I have a dog\n",
      " my dog's name is rex\n"
     ]
    }
   ],
   "source": [
    "describe_pet('rex')"
   ]
  },
  {
   "cell_type": "code",
   "execution_count": null,
   "id": "87521e14-4fd5-4825-8ffa-f596201a5176",
   "metadata": {},
   "outputs": [],
   "source": [
    "Returning a simple value:"
   ]
  },
  {
   "cell_type": "code",
   "execution_count": 3,
   "id": "62877bca-e79b-4282-9d77-cd0161d45121",
   "metadata": {},
   "outputs": [],
   "source": [
    "def get_formatted_name(first_name,last_name):\n",
    "    \"\"\"return a full name, neatly formatted\"\"\"\n",
    "    full_name = f\"{first_name} {last_name}\"\n",
    "    return full_name.title()"
   ]
  },
  {
   "cell_type": "code",
   "execution_count": 4,
   "id": "d3535ded-844c-48cb-9962-d704923c45b1",
   "metadata": {},
   "outputs": [
    {
     "name": "stdout",
     "output_type": "stream",
     "text": [
      "Deepu Divya\n"
     ]
    }
   ],
   "source": [
    "person = get_formatted_name('Deepu','Divya')\n",
    "print(person)"
   ]
  },
  {
   "cell_type": "code",
   "execution_count": null,
   "id": "d4945ee5-0301-4941-b20b-9eb5e58cc435",
   "metadata": {},
   "outputs": [],
   "source": [
    "Passing Arbitary no of arguments:"
   ]
  },
  {
   "cell_type": "code",
   "execution_count": 5,
   "id": "4fc647c4-b0a0-4292-acb7-b0550abd3967",
   "metadata": {},
   "outputs": [],
   "source": [
    "def make_pizza(*toppings):\n",
    "    \"\"\"print the list of toppings that has been requested\"\"\"\n",
    "    print(toppings)"
   ]
  },
  {
   "cell_type": "code",
   "execution_count": 7,
   "id": "0104797e-b3eb-459e-a73c-4361c8cc8e1d",
   "metadata": {},
   "outputs": [
    {
     "name": "stdout",
     "output_type": "stream",
     "text": [
      "('olives',)\n"
     ]
    }
   ],
   "source": [
    "make_pizza('olives')"
   ]
  },
  {
   "cell_type": "code",
   "execution_count": 8,
   "id": "6914ab2d-6aec-4468-940c-4c8992a3bf3c",
   "metadata": {},
   "outputs": [
    {
     "name": "stdout",
     "output_type": "stream",
     "text": [
      "('olives', 'corn', 'onions')\n"
     ]
    }
   ],
   "source": [
    "make_pizza('olives','corn','onions')"
   ]
  },
  {
   "cell_type": "code",
   "execution_count": 22,
   "id": "720cc14b-d41a-4960-a5e6-5ad497b1c510",
   "metadata": {},
   "outputs": [],
   "source": [
    "def make_pizza(*toppings):\n",
    "    \"\"\"print the list of toppings that has been requested.\"\"\"\n",
    "    print(\"\\nMaking the pizza with the below toppings\")\n",
    "    for a in toppings:\n",
    "        print(f\"- {a}\")"
   ]
  },
  {
   "cell_type": "code",
   "execution_count": 23,
   "id": "8d16e57e-aabd-4bcd-829e-d05c978581d8",
   "metadata": {},
   "outputs": [
    {
     "name": "stdout",
     "output_type": "stream",
     "text": [
      "\n",
      "Making the pizza with the below toppings\n",
      "- olives\n",
      "- corn\n",
      "- onions\n"
     ]
    }
   ],
   "source": [
    "make_pizza('olives','corn','onions')"
   ]
  },
  {
   "cell_type": "code",
   "execution_count": null,
   "id": "4a65503a-f8ea-458e-8685-c506f57d6e76",
   "metadata": {},
   "outputs": [],
   "source": [
    "Mixing positional and arbitary arguments:"
   ]
  },
  {
   "cell_type": "code",
   "execution_count": null,
   "id": "a44d271b-96d7-49f3-810e-2cf14f792044",
   "metadata": {},
   "outputs": [],
   "source": [
    "def make_pizza(size,*toppings):\n",
    "    \"\"\"Summarize the pizza that I want to make\"\"\"\n",
    "    print(\"\\nMaking a {size} inch pizza with the below toppings\")\n",
    "    for a in toppings:\n",
    "        print(f\"- {a}\")"
   ]
  },
  {
   "cell_type": "code",
   "execution_count": 27,
   "id": "ef132462-fa77-4396-b757-d7bec781843e",
   "metadata": {},
   "outputs": [
    {
     "name": "stdout",
     "output_type": "stream",
     "text": [
      "\n",
      "Making a {size} inch pizza with the below toppings\n",
      "- olives\n",
      "- corn\n"
     ]
    }
   ],
   "source": [
    "make_pizza(12,'olives','corn')"
   ]
  },
  {
   "cell_type": "code",
   "execution_count": 28,
   "id": "55d58b60-2df4-4903-9322-55f5ca9d85e5",
   "metadata": {},
   "outputs": [
    {
     "name": "stdout",
     "output_type": "stream",
     "text": [
      "\n",
      "Making a {size} inch pizza with the below toppings\n",
      "- olives\n",
      "- chicken\n"
     ]
    }
   ],
   "source": [
    "make_pizza(19,'olives','chicken')"
   ]
  },
  {
   "cell_type": "code",
   "execution_count": null,
   "id": "28bfc172-9595-4cfa-8f5c-ffbd23754a39",
   "metadata": {},
   "outputs": [],
   "source": []
  },
  {
   "cell_type": "code",
   "execution_count": null,
   "id": "8d1eea67-b9d7-45c2-9f53-75311bfe0c6e",
   "metadata": {},
   "outputs": [],
   "source": []
  },
  {
   "cell_type": "code",
   "execution_count": null,
   "id": "841237f7-6b36-4b84-a81a-1c0c1f949df4",
   "metadata": {},
   "outputs": [],
   "source": []
  },
  {
   "cell_type": "code",
   "execution_count": null,
   "id": "1bf06f31-db2a-44ba-803e-b1283f04e205",
   "metadata": {},
   "outputs": [],
   "source": []
  }
 ],
 "metadata": {
  "kernelspec": {
   "display_name": "Python [conda env:base] *",
   "language": "python",
   "name": "conda-base-py"
  },
  "language_info": {
   "codemirror_mode": {
    "name": "ipython",
    "version": 3
   },
   "file_extension": ".py",
   "mimetype": "text/x-python",
   "name": "python",
   "nbconvert_exporter": "python",
   "pygments_lexer": "ipython3",
   "version": "3.13.5"
  }
 },
 "nbformat": 4,
 "nbformat_minor": 5
}
