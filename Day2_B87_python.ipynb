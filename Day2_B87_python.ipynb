{
 "cells": [
  {
   "cell_type": "code",
   "execution_count": null,
   "id": "a2bbbd70-6f18-4e32-91c2-c7bcaeb93815",
   "metadata": {},
   "outputs": [],
   "source": [
    "Variables in python"
   ]
  },
  {
   "cell_type": "code",
   "execution_count": 1,
   "id": "4e60ab2b-b1b5-4d23-a621-b7d542fe3947",
   "metadata": {},
   "outputs": [
    {
     "name": "stdout",
     "output_type": "stream",
     "text": [
      "7\n"
     ]
    }
   ],
   "source": [
    "x = 4\n",
    "y = 3\n",
    "z = x+y\n",
    "print(z)"
   ]
  },
  {
   "cell_type": "code",
   "execution_count": null,
   "id": "c48fb6c0-1a49-429c-98c3-3cefe41cbac9",
   "metadata": {},
   "outputs": [],
   "source": [
    "No namespaces while declaring the variable in python"
   ]
  },
  {
   "cell_type": "code",
   "execution_count": 2,
   "id": "944e948d-3426-4828-92fc-716413759e6f",
   "metadata": {},
   "outputs": [
    {
     "name": "stdout",
     "output_type": "stream",
     "text": [
      "Deepu\n"
     ]
    }
   ],
   "source": [
    "firstname = \"Deepu\"\n",
    "print(firstname)"
   ]
  },
  {
   "cell_type": "code",
   "execution_count": null,
   "id": "9cdaea84-5802-46f0-bbc5-07bf7ab71cf9",
   "metadata": {},
   "outputs": [],
   "source": [
    "A variable should not start with a number **  (** is a exponentiation operator)"
   ]
  },
  {
   "cell_type": "code",
   "execution_count": 3,
   "id": "91fdfecd-d96a-4ba7-ad28-a65aebf99558",
   "metadata": {},
   "outputs": [
    {
     "name": "stdout",
     "output_type": "stream",
     "text": [
      "Deepu\n"
     ]
    }
   ],
   "source": [
    "name1 = \"Deepu\"\n",
    "print(name1)"
   ]
  },
  {
   "cell_type": "code",
   "execution_count": null,
   "id": "3dce11ea-2720-402c-a28c-b07d01ef570d",
   "metadata": {},
   "outputs": [],
   "source": [
    "A variable should not contain any special characters"
   ]
  },
  {
   "cell_type": "code",
   "execution_count": 4,
   "id": "7cda156d-3445-47d7-a9d9-9acafef4945d",
   "metadata": {},
   "outputs": [
    {
     "ename": "SyntaxError",
     "evalue": "invalid syntax (3341877690.py, line 1)",
     "output_type": "error",
     "traceback": [
      "\u001b[0;36m  Cell \u001b[0;32mIn[4], line 1\u001b[0;36m\u001b[0m\n\u001b[0;31m    number@ = '3'\u001b[0m\n\u001b[0m            ^\u001b[0m\n\u001b[0;31mSyntaxError\u001b[0m\u001b[0;31m:\u001b[0m invalid syntax\n"
     ]
    }
   ],
   "source": [
    "number@ = '3'\n",
    "print(number@)"
   ]
  },
  {
   "cell_type": "code",
   "execution_count": 5,
   "id": "e21ccb3a-0da4-483b-b648-51da8a4c1109",
   "metadata": {},
   "outputs": [
    {
     "name": "stdout",
     "output_type": "stream",
     "text": [
      "number\n"
     ]
    }
   ],
   "source": [
    "number =  '3'\n",
    "print('number')"
   ]
  },
  {
   "cell_type": "code",
   "execution_count": null,
   "id": "d5cfe139-fd15-4dc6-b09f-8ffde5dc6048",
   "metadata": {},
   "outputs": [],
   "source": [
    "String datatypes (single quote, double quote)"
   ]
  },
  {
   "cell_type": "code",
   "execution_count": 6,
   "id": "1bec8d3c-bbc1-41c7-b981-b5bc6ad8070e",
   "metadata": {},
   "outputs": [
    {
     "name": "stdout",
     "output_type": "stream",
     "text": [
      "Deepu\n"
     ]
    }
   ],
   "source": [
    "name = 'Deepu'\n",
    "print(name)"
   ]
  },
  {
   "cell_type": "code",
   "execution_count": 7,
   "id": "60952c36-0302-4ba4-9b02-e5f21056e5c0",
   "metadata": {},
   "outputs": [
    {
     "name": "stdout",
     "output_type": "stream",
     "text": [
      "Deepu\n"
     ]
    }
   ],
   "source": [
    "name = \"Deepu\"\n",
    "print(name)"
   ]
  },
  {
   "cell_type": "code",
   "execution_count": null,
   "id": "2f496b59-2a03-4342-98d9-b2b202043c69",
   "metadata": {},
   "outputs": [],
   "source": [
    "String methods"
   ]
  },
  {
   "cell_type": "code",
   "execution_count": 8,
   "id": "38dc7ca3-227f-485f-94da-42cacf6ecc99",
   "metadata": {},
   "outputs": [
    {
     "data": {
      "text/plain": [
       "str"
      ]
     },
     "execution_count": 8,
     "metadata": {},
     "output_type": "execute_result"
    }
   ],
   "source": [
    "type(name)"
   ]
  },
  {
   "cell_type": "code",
   "execution_count": null,
   "id": "125197db-2a34-4eda-b3b9-38a47f713eaf",
   "metadata": {},
   "outputs": [],
   "source": [
    "Req:- To correct the format (1st letter capital)"
   ]
  },
  {
   "cell_type": "code",
   "execution_count": null,
   "id": "1c1b8f29-09d8-45ad-8151-8e3e6bb6aea2",
   "metadata": {},
   "outputs": [],
   "source": [
    "fullname = 'Deepu'\n",
    "print"
   ]
  }
 ],
 "metadata": {
  "kernelspec": {
   "display_name": "Python [conda env:base] *",
   "language": "python",
   "name": "conda-base-py"
  },
  "language_info": {
   "codemirror_mode": {
    "name": "ipython",
    "version": 3
   },
   "file_extension": ".py",
   "mimetype": "text/x-python",
   "name": "python",
   "nbconvert_exporter": "python",
   "pygments_lexer": "ipython3",
   "version": "3.13.5"
  }
 },
 "nbformat": 4,
 "nbformat_minor": 5
}
